{
 "cells": [
  {
   "cell_type": "code",
   "execution_count": 0,
   "metadata": {
    "application/vnd.databricks.v1+cell": {
     "cellMetadata": {
      "byteLimit": 2048000,
      "rowLimit": 10000
     },
     "inputWidgets": {},
     "nuid": "ad7cd932-a125-41e2-92f0-5287bc56dfde",
     "showTitle": false,
     "tableResultSettingsMap": {},
     "title": ""
    }
   },
   "outputs": [],
   "source": [
    "from pyspark.sql.functions import *\n",
    "from pyspark.sql.types import *\n"
   ]
  },
  {
   "cell_type": "markdown",
   "metadata": {
    "application/vnd.databricks.v1+cell": {
     "cellMetadata": {
      "byteLimit": 2048000,
      "rowLimit": 10000
     },
     "inputWidgets": {},
     "nuid": "9c1c6455-5011-4add-acbb-734074b2a658",
     "showTitle": false,
     "tableResultSettingsMap": {},
     "title": ""
    }
   },
   "source": [
    "## *Parameters*"
   ]
  },
  {
   "cell_type": "code",
   "execution_count": 0,
   "metadata": {
    "application/vnd.databricks.v1+cell": {
     "cellMetadata": {
      "byteLimit": 2048000,
      "rowLimit": 10000
     },
     "inputWidgets": {},
     "nuid": "e9129198-7a24-4b3c-be6c-ed87409ac527",
     "showTitle": false,
     "tableResultSettingsMap": {},
     "title": ""
    }
   },
   "outputs": [],
   "source": [
    "# key columns list\n",
    "key_col = \"['flight_id']\"\n",
    "key_col_list = eval(key_col)\n",
    "\n",
    "# cdc column\n",
    "cdc_col = \"modifiedDate\"\n",
    "\n",
    "# back-date refresh\n",
    "backdated_refresh = \"\"\n",
    "\n",
    "# catalog\n",
    "catalog = \"workspace\"\n",
    "\n",
    "# Source Object\n",
    "source_object = \"silver_flights\"\n",
    "\n",
    "# Source schema\n",
    "source_schema = \"silver\"\n",
    "\n",
    "# Target schema\n",
    "target_schema = \"gold\"\n",
    "\n",
    "# Target object\n",
    "target_object = \"DimFlights\"\n",
    "\n",
    "# Surrey key\n",
    "sur_key = \"Dimflightskey\"\n"
   ]
  },
  {
   "cell_type": "code",
   "execution_count": 0,
   "metadata": {
    "application/vnd.databricks.v1+cell": {
     "cellMetadata": {
      "byteLimit": 2048000,
      "rowLimit": 10000
     },
     "inputWidgets": {},
     "nuid": "e314413f-5b3e-477e-b5d6-930accde1137",
     "showTitle": false,
     "tableResultSettingsMap": {},
     "title": ""
    }
   },
   "outputs": [],
   "source": [
    "# key columns list\n",
    "#key_col = \"['airport_id']\"\n",
    "#key_col_list = eval(key_col)\n",
    "\n",
    "# cdc column\n",
    "#cdc_col = \"modifiedDate\"\n",
    "\n",
    "# back-date refresh\n",
    "#backdated_refresh = \"\"\n",
    "\n",
    "# catalog\n",
    "#catalog = \"workspace\"\n",
    "\n",
    "# Source Object\n",
    "#source_object = \"silver_airports\"\n",
    "\n",
    "# Source schema\n",
    "#source_schema = \"silver\"\n",
    "\n",
    "# Target schema\n",
    "#target_schema = \"gold\"\n",
    "\n",
    "# Target object\n",
    "#target_object = \"DimAirports\"\n",
    "\n",
    "# Surrey key\n",
    "#sur_key = \"DimAirportskey\"\n"
   ]
  },
  {
   "cell_type": "code",
   "execution_count": 0,
   "metadata": {
    "application/vnd.databricks.v1+cell": {
     "cellMetadata": {
      "byteLimit": 2048000,
      "rowLimit": 10000
     },
     "inputWidgets": {},
     "nuid": "b5ca79f5-05c2-42ca-9c15-2ba5c0a2f880",
     "showTitle": false,
     "tableResultSettingsMap": {},
     "title": ""
    }
   },
   "outputs": [],
   "source": [
    "# key columns list\n",
    "#key_col = \"['passenger_id']\"\n",
    "#key_col_list = eval(key_col)\n",
    "\n",
    "# cdc column\n",
    "#cdc_col = \"modifiedDate\"\n",
    "\n",
    "# back-date refresh\n",
    "#backdated_refresh = \"\"\n",
    "\n",
    "# catalog\n",
    "#catalog = \"workspace\"\n",
    "\n",
    "# Source Object\n",
    "#source_object = \"silver_passengers\"\n",
    "\n",
    "# Source schema\n",
    "#source_schema = \"silver\"\n",
    "\n",
    "# Target schema\n",
    "#target_schema = \"gold\"\n",
    "\n",
    "# Target object\n",
    "#target_object = \"DimPassengers\"\n",
    "\n",
    "# Surrey key\n",
    "#sur_key = \"DimPassengerskey\"\n"
   ]
  },
  {
   "cell_type": "code",
   "execution_count": 0,
   "metadata": {
    "application/vnd.databricks.v1+cell": {
     "cellMetadata": {
      "byteLimit": 2048000,
      "rowLimit": 10000
     },
     "inputWidgets": {},
     "nuid": "f8a5f9c2-e044-417a-bb89-7f3249c0f927",
     "showTitle": false,
     "tableResultSettingsMap": {},
     "title": ""
    }
   },
   "outputs": [],
   "source": [
    "# key columns list\n",
    "#key_col = \"['booking_id']\"\n",
    "#key_col_list = eval(key_col)\n",
    "\n",
    "# cdc column\n",
    "#cdc_col = \"modifiedDate\"\n",
    "\n",
    "# back-date refresh\n",
    "#backdated_refresh = \"\"\n",
    "\n",
    "# catalog\n",
    "#catalog = \"workspace\"\n",
    "\n",
    "# Source Object\n",
    "#source_object = \"silver_bookings\"\n",
    "\n",
    "# Source schema\n",
    "#source_schema = \"silver\"\n",
    "\n",
    "# Target schema\n",
    "#target_schema = \"gold\"\n",
    "\n",
    "# Target object\n",
    "#target_object = \"DimBookings\"\n",
    "\n",
    "# Surrey key\n",
    "#sur_key = \"DimBookingskey\"\n"
   ]
  },
  {
   "cell_type": "markdown",
   "metadata": {
    "application/vnd.databricks.v1+cell": {
     "cellMetadata": {
      "byteLimit": 2048000,
      "rowLimit": 10000
     },
     "inputWidgets": {},
     "nuid": "cee24d69-2016-4a52-b31f-1aaa3765eeb7",
     "showTitle": false,
     "tableResultSettingsMap": {},
     "title": ""
    }
   },
   "source": [
    "### **Incremental Data Ingestion**"
   ]
  },
  {
   "cell_type": "markdown",
   "metadata": {
    "application/vnd.databricks.v1+cell": {
     "cellMetadata": {
      "byteLimit": 2048000,
      "rowLimit": 10000
     },
     "inputWidgets": {},
     "nuid": "2fb344ff-ac02-478d-bed8-37c39aef0047",
     "showTitle": false,
     "tableResultSettingsMap": {},
     "title": ""
    }
   },
   "source": [
    "#### Last Load Data"
   ]
  },
  {
   "cell_type": "code",
   "execution_count": 0,
   "metadata": {
    "application/vnd.databricks.v1+cell": {
     "cellMetadata": {
      "byteLimit": 2048000,
      "rowLimit": 10000
     },
     "inputWidgets": {},
     "nuid": "ab52c127-924c-4d38-ab40-5f28c2185636",
     "showTitle": false,
     "tableResultSettingsMap": {},
     "title": ""
    }
   },
   "outputs": [
    {
     "output_type": "execute_result",
     "data": {
      "text/plain": [
       "datetime.datetime(2025, 7, 1, 7, 35, 46, 289000)"
      ]
     },
     "execution_count": 94,
     "metadata": {},
     "output_type": "execute_result"
    }
   ],
   "source": [
    "# no backdated refresh\n",
    "if len(backdated_refresh) == 0:\n",
    "  #if table EXIST in the destination \n",
    "  if spark.catalog.tableExists(f\"{catalog}.{target_schema}.{target_object}\"):\n",
    "    last_load = spark.sql(f\"select max({cdc_col}) from workspace.{target_schema}.{target_object}\").collect()[0][0]\n",
    "  \n",
    "  else:\n",
    "    last_load = \"1900-01-01 00:00:00\"\n",
    "# do back data refresh\n",
    "else:\n",
    "  last_load = backdated_refresh\n",
    "\n",
    "\n",
    "## test\n",
    "last_load"
   ]
  },
  {
   "cell_type": "code",
   "execution_count": 0,
   "metadata": {
    "application/vnd.databricks.v1+cell": {
     "cellMetadata": {
      "byteLimit": 2048000,
      "implicitDf": true,
      "rowLimit": 10000
     },
     "inputWidgets": {},
     "nuid": "dcf1479e-17dc-432d-b4ed-71f0002e5d97",
     "showTitle": false,
     "tableResultSettingsMap": {},
     "title": ""
    }
   },
   "outputs": [],
   "source": [
    "df_src = spark.sql(f\"SELECT * FROM {source_schema}.{source_object} WHERE {cdc_col} > '{last_load}'\")"
   ]
  },
  {
   "cell_type": "markdown",
   "metadata": {
    "application/vnd.databricks.v1+cell": {
     "cellMetadata": {
      "byteLimit": 2048000,
      "rowLimit": 10000
     },
     "inputWidgets": {},
     "nuid": "92689f7d-58d5-4280-9c8a-356844ff1866",
     "showTitle": false,
     "tableResultSettingsMap": {},
     "title": ""
    }
   },
   "source": [
    "### old vs new records"
   ]
  },
  {
   "cell_type": "code",
   "execution_count": 0,
   "metadata": {
    "application/vnd.databricks.v1+cell": {
     "cellMetadata": {
      "byteLimit": 2048000,
      "rowLimit": 10000
     },
     "inputWidgets": {},
     "nuid": "0d735dbf-745e-4211-9fde-3fa306ef2473",
     "showTitle": false,
     "tableResultSettingsMap": {},
     "title": ""
    }
   },
   "outputs": [],
   "source": [
    "if spark.catalog.tableExists(f\"{catalog}.{target_schema}.{target_object}\"):\n",
    "\n",
    "    # key coloumns string for incremental\n",
    "    key_col_string_incremental = \", \".join(key_col_list)\n",
    "    df_tgt = spark.sql(f\"SELECT {key_col_string_incremental}, {sur_key}, create_date, update_date FROM {catalog}.{target_schema}.{target_object}\")\n",
    "else:\n",
    "\n",
    "    # key column string initial\n",
    "    key_col_string_init = [f\"'' AS {i}\" for i in key_col_list]\n",
    "    key_col_string_init = \", \".join(key_col_string_init)\n",
    "     \n",
    "\n",
    "    df_tgt = spark.sql(f\"\"\"SELECT {key_col_string_init}, CAST('0' AS INT) AS {sur_key}, CAST('1900-01-01 00:00:00' AS timestamp) AS create_date, CAST('1900-01-01 00:00:00' AS timestamp) AS update_date WHERE 1=0\"\"\")\n"
   ]
  },
  {
   "cell_type": "markdown",
   "metadata": {
    "application/vnd.databricks.v1+cell": {
     "cellMetadata": {
      "byteLimit": 2048000,
      "rowLimit": 10000
     },
     "inputWidgets": {},
     "nuid": "99cffad1-0e7e-4a72-894f-32f2ea708272",
     "showTitle": false,
     "tableResultSettingsMap": {},
     "title": ""
    }
   },
   "source": [
    "#### join condition"
   ]
  },
  {
   "cell_type": "code",
   "execution_count": 0,
   "metadata": {
    "application/vnd.databricks.v1+cell": {
     "cellMetadata": {
      "byteLimit": 2048000,
      "rowLimit": 10000
     },
     "inputWidgets": {},
     "nuid": "b34f5ec7-dc44-439b-aa51-51df7ac3a7f0",
     "showTitle": false,
     "tableResultSettingsMap": {},
     "title": ""
    }
   },
   "outputs": [],
   "source": [
    "join_condition = ' AND '.join([f\"src.{i} = tgt.{i}\" for i in key_col_list])"
   ]
  },
  {
   "cell_type": "code",
   "execution_count": 0,
   "metadata": {
    "application/vnd.databricks.v1+cell": {
     "cellMetadata": {
      "byteLimit": 2048000,
      "rowLimit": 10000
     },
     "inputWidgets": {},
     "nuid": "f161819e-62fd-4c3d-8ed1-8f4e1904173b",
     "showTitle": false,
     "tableResultSettingsMap": {},
     "title": ""
    }
   },
   "outputs": [],
   "source": [
    "df_src.createOrReplaceTempView(\"src\")\n",
    "df_tgt.createOrReplaceTempView(\"tgt\")\n",
    "\n",
    "df_join = spark.sql(f\"\"\"\n",
    "          SELECT src.*,\n",
    "                tgt.{sur_key},\n",
    "                tgt.create_date,\n",
    "                tgt.update_date\n",
    "          FROM src\n",
    "          LEFT JOIN tgt\n",
    "          ON {join_condition}\n",
    "          \n",
    "          \"\"\")"
   ]
  },
  {
   "cell_type": "code",
   "execution_count": 0,
   "metadata": {
    "application/vnd.databricks.v1+cell": {
     "cellMetadata": {
      "byteLimit": 2048000,
      "rowLimit": 10000
     },
     "inputWidgets": {},
     "nuid": "d01bc268-0e6b-4c2c-a355-c026fc024323",
     "showTitle": false,
     "tableResultSettingsMap": {},
     "title": ""
    }
   },
   "outputs": [
    {
     "output_type": "display_data",
     "data": {
      "text/html": [
       "<style scoped>\n",
       "  .table-result-container {\n",
       "    max-height: 300px;\n",
       "    overflow: auto;\n",
       "  }\n",
       "  table, th, td {\n",
       "    border: 1px solid black;\n",
       "    border-collapse: collapse;\n",
       "  }\n",
       "  th, td {\n",
       "    padding: 5px;\n",
       "  }\n",
       "  th {\n",
       "    text-align: left;\n",
       "  }\n",
       "</style><div class='table-result-container'><table class='table-result'><thead style='background-color: white'><tr><th>flight_id</th><th>airline</th><th>origin</th><th>destination</th><th>flight_date</th><th>modifiedDate</th><th>Dimflightskey</th><th>create_date</th><th>update_date</th></tr></thead><tbody><tr><td>F0003</td><td>Jet Airways</td><td>East Patrickborough</td><td>North Mary</td><td>2025-07-03</td><td>2025-07-01T13:32:22.680Z</td><td>14</td><td>2025-07-01T12:34:50.022Z</td><td>2025-07-01T12:34:50.022Z</td></tr><tr><td>F0113</td><td>Air Asia</td><td>North Mistyberg</td><td>East Lisaton</td><td>2025-07-02</td><td>2025-07-01T13:32:22.680Z</td><td>null</td><td>null</td><td>null</td></tr><tr><td>F0112</td><td>Ryanair</td><td>Lake David</td><td>Port Michael</td><td>2025-07-12</td><td>2025-07-01T13:32:22.680Z</td><td>null</td><td>null</td><td>null</td></tr><tr><td>F0052</td><td>IndiGo</td><td>Lake Richard</td><td>Brookston</td><td>2025-06-28</td><td>2025-07-01T13:32:22.680Z</td><td>5</td><td>2025-07-01T12:34:50.022Z</td><td>2025-07-01T12:34:50.022Z</td></tr><tr><td>F0032</td><td>British Airways</td><td>Bushhaven</td><td>Patriciamouth</td><td>2025-07-30</td><td>2025-07-01T13:32:22.680Z</td><td>44</td><td>2025-07-01T12:34:50.022Z</td><td>2025-07-01T12:34:50.022Z</td></tr><tr><td>F0005</td><td>IndiGo</td><td>Bennettside</td><td>New Mistyhaven</td><td>2025-06-24</td><td>2025-07-01T13:32:22.680Z</td><td>8</td><td>2025-07-01T12:34:50.022Z</td><td>2025-07-01T12:34:50.022Z</td></tr><tr><td>F0111</td><td>United</td><td>South Michellemouth</td><td>Jacquelinechester</td><td>2025-07-12</td><td>2025-07-01T13:32:22.680Z</td><td>null</td><td>null</td><td>null</td></tr><tr><td>F0045</td><td>IndiGo</td><td>North Michaelville</td><td>Russellton</td><td>2025-07-16</td><td>2025-07-01T13:32:22.680Z</td><td>17</td><td>2025-07-01T12:34:50.022Z</td><td>2025-07-01T12:34:50.022Z</td></tr></tbody></table></div>"
      ]
     },
     "metadata": {
      "application/vnd.databricks.v1+output": {
       "addedWidgets": {},
       "aggData": [],
       "aggError": "",
       "aggOverflow": false,
       "aggSchema": [],
       "aggSeriesLimitReached": false,
       "aggType": "",
       "arguments": {},
       "columnCustomDisplayInfos": {},
       "data": [
        [
         "F0003",
         "Jet Airways",
         "East Patrickborough",
         "North Mary",
         "2025-07-03",
         "2025-07-01T13:32:22.680Z",
         14,
         "2025-07-01T12:34:50.022Z",
         "2025-07-01T12:34:50.022Z"
        ],
        [
         "F0113",
         "Air Asia",
         "North Mistyberg",
         "East Lisaton",
         "2025-07-02",
         "2025-07-01T13:32:22.680Z",
         null,
         null,
         null
        ],
        [
         "F0112",
         "Ryanair",
         "Lake David",
         "Port Michael",
         "2025-07-12",
         "2025-07-01T13:32:22.680Z",
         null,
         null,
         null
        ],
        [
         "F0052",
         "IndiGo",
         "Lake Richard",
         "Brookston",
         "2025-06-28",
         "2025-07-01T13:32:22.680Z",
         5,
         "2025-07-01T12:34:50.022Z",
         "2025-07-01T12:34:50.022Z"
        ],
        [
         "F0032",
         "British Airways",
         "Bushhaven",
         "Patriciamouth",
         "2025-07-30",
         "2025-07-01T13:32:22.680Z",
         44,
         "2025-07-01T12:34:50.022Z",
         "2025-07-01T12:34:50.022Z"
        ],
        [
         "F0005",
         "IndiGo",
         "Bennettside",
         "New Mistyhaven",
         "2025-06-24",
         "2025-07-01T13:32:22.680Z",
         8,
         "2025-07-01T12:34:50.022Z",
         "2025-07-01T12:34:50.022Z"
        ],
        [
         "F0111",
         "United",
         "South Michellemouth",
         "Jacquelinechester",
         "2025-07-12",
         "2025-07-01T13:32:22.680Z",
         null,
         null,
         null
        ],
        [
         "F0045",
         "IndiGo",
         "North Michaelville",
         "Russellton",
         "2025-07-16",
         "2025-07-01T13:32:22.680Z",
         17,
         "2025-07-01T12:34:50.022Z",
         "2025-07-01T12:34:50.022Z"
        ]
       ],
       "datasetInfos": [],
       "dbfsResultPath": null,
       "isJsonSchema": true,
       "metadata": {},
       "overflow": false,
       "plotOptions": {
        "customPlotOptions": {},
        "displayType": "table",
        "pivotAggregation": null,
        "pivotColumns": null,
        "xColumns": null,
        "yColumns": null
       },
       "removedWidgets": [],
       "schema": [
        {
         "metadata": "{}",
         "name": "flight_id",
         "type": "\"string\""
        },
        {
         "metadata": "{}",
         "name": "airline",
         "type": "\"string\""
        },
        {
         "metadata": "{}",
         "name": "origin",
         "type": "\"string\""
        },
        {
         "metadata": "{}",
         "name": "destination",
         "type": "\"string\""
        },
        {
         "metadata": "{}",
         "name": "flight_date",
         "type": "\"string\""
        },
        {
         "metadata": "{}",
         "name": "modifiedDate",
         "type": "\"timestamp\""
        },
        {
         "metadata": "{}",
         "name": "Dimflightskey",
         "type": "\"long\""
        },
        {
         "metadata": "{}",
         "name": "create_date",
         "type": "\"timestamp\""
        },
        {
         "metadata": "{}",
         "name": "update_date",
         "type": "\"timestamp\""
        }
       ],
       "type": "table"
      }
     },
     "output_type": "display_data"
    }
   ],
   "source": [
    "df_join.display()"
   ]
  },
  {
   "cell_type": "code",
   "execution_count": 0,
   "metadata": {
    "application/vnd.databricks.v1+cell": {
     "cellMetadata": {
      "byteLimit": 2048000,
      "rowLimit": 10000
     },
     "inputWidgets": {},
     "nuid": "08a8c7d9-fe54-45a7-b3a3-1343dcd11166",
     "showTitle": false,
     "tableResultSettingsMap": {},
     "title": ""
    }
   },
   "outputs": [],
   "source": [
    "# old records\n",
    "df_old = df_join.filter(col(f'{sur_key}').isNotNull())\n",
    "\n",
    "# new records\n",
    "df_new = df_join.filter(col(f'{sur_key}').isNull())\n"
   ]
  },
  {
   "cell_type": "markdown",
   "metadata": {
    "application/vnd.databricks.v1+cell": {
     "cellMetadata": {
      "byteLimit": 2048000,
      "rowLimit": 10000
     },
     "inputWidgets": {},
     "nuid": "37376e52-11b9-4567-be73-25a7e22d2f9b",
     "showTitle": false,
     "tableResultSettingsMap": {},
     "title": ""
    }
   },
   "source": [
    "### preparing df_old"
   ]
  },
  {
   "cell_type": "code",
   "execution_count": 0,
   "metadata": {
    "application/vnd.databricks.v1+cell": {
     "cellMetadata": {
      "byteLimit": 2048000,
      "rowLimit": 10000
     },
     "inputWidgets": {},
     "nuid": "bab6dc9e-9e86-4241-afb7-bf53e43014ea",
     "showTitle": false,
     "tableResultSettingsMap": {},
     "title": ""
    }
   },
   "outputs": [],
   "source": [
    "df_old_enr = df_old.withColumn('update_date', current_timestamp())"
   ]
  },
  {
   "cell_type": "markdown",
   "metadata": {
    "application/vnd.databricks.v1+cell": {
     "cellMetadata": {
      "byteLimit": 2048000,
      "rowLimit": 10000
     },
     "inputWidgets": {},
     "nuid": "2d90f8cd-ac20-49c0-a05e-b7cc52de2626",
     "showTitle": false,
     "tableResultSettingsMap": {},
     "title": ""
    }
   },
   "source": [
    "### preparing df_new"
   ]
  },
  {
   "cell_type": "code",
   "execution_count": 0,
   "metadata": {
    "application/vnd.databricks.v1+cell": {
     "cellMetadata": {
      "byteLimit": 2048000,
      "rowLimit": 10000
     },
     "inputWidgets": {},
     "nuid": "f4f06e2d-f939-47b5-9226-9fe2eb31c62a",
     "showTitle": false,
     "tableResultSettingsMap": {},
     "title": ""
    }
   },
   "outputs": [],
   "source": [
    "if spark.catalog.tableExists(f\"{catalog}.{target_schema}.{target_object}\"):\n",
    "    max_surrogate_key = spark.sql(f\"\"\"SELECT max({sur_key}) FROM {catalog}.{target_schema}.{target_object}\"\"\").collect()[0][0]\n",
    "    df_new_enr = df_new.withColumn(f'{sur_key}', lit(max_surrogate_key) + lit(1) + monotonically_increasing_id())\\\n",
    "                    .withColumn('create_date', current_timestamp())\\\n",
    "                    .withColumn('update_date', current_timestamp())\n",
    "else:\n",
    "    max_surrogate_key = 0\n",
    "    df_new_enr = df_new.withColumn(f'{sur_key}', lit(max_surrogate_key) + lit(1) + monotonically_increasing_id())\\\n",
    "                    .withColumn('create_date', current_timestamp())\\\n",
    "                    .withColumn('update_date', current_timestamp())\n"
   ]
  },
  {
   "cell_type": "markdown",
   "metadata": {
    "application/vnd.databricks.v1+cell": {
     "cellMetadata": {
      "byteLimit": 2048000,
      "rowLimit": 10000
     },
     "inputWidgets": {},
     "nuid": "405591f1-a2c3-44e6-90eb-7f54f1ce0ec7",
     "showTitle": false,
     "tableResultSettingsMap": {},
     "title": ""
    }
   },
   "source": [
    "### ***Union of Old and New Records***"
   ]
  },
  {
   "cell_type": "code",
   "execution_count": 0,
   "metadata": {
    "application/vnd.databricks.v1+cell": {
     "cellMetadata": {
      "byteLimit": 2048000,
      "rowLimit": 10000
     },
     "inputWidgets": {},
     "nuid": "7d4d02e3-eab2-449c-8fee-d2d1050d08e2",
     "showTitle": false,
     "tableResultSettingsMap": {},
     "title": ""
    }
   },
   "outputs": [],
   "source": [
    "df_union = df_old_enr.unionByName(df_new_enr)\n",
    "\n"
   ]
  },
  {
   "cell_type": "markdown",
   "metadata": {
    "application/vnd.databricks.v1+cell": {
     "cellMetadata": {
      "byteLimit": 2048000,
      "rowLimit": 10000
     },
     "inputWidgets": {},
     "nuid": "cd8f96a3-b6cb-40ef-9ea4-a9e94fef6237",
     "showTitle": false,
     "tableResultSettingsMap": {},
     "title": ""
    }
   },
   "source": [
    "### ***Upsert***"
   ]
  },
  {
   "cell_type": "code",
   "execution_count": 0,
   "metadata": {
    "application/vnd.databricks.v1+cell": {
     "cellMetadata": {
      "byteLimit": 2048000,
      "rowLimit": 10000
     },
     "inputWidgets": {},
     "nuid": "a1428343-9d5b-499f-8f83-aeea26c9d5b9",
     "showTitle": false,
     "tableResultSettingsMap": {},
     "title": ""
    }
   },
   "outputs": [],
   "source": [
    "from delta.tables import DeltaTable"
   ]
  },
  {
   "cell_type": "code",
   "execution_count": 0,
   "metadata": {
    "application/vnd.databricks.v1+cell": {
     "cellMetadata": {
      "byteLimit": 2048000,
      "rowLimit": 10000
     },
     "inputWidgets": {},
     "nuid": "fec9a0d1-1e54-4a8f-9baa-d379e20a8ada",
     "showTitle": false,
     "tableResultSettingsMap": {},
     "title": ""
    }
   },
   "outputs": [],
   "source": [
    "if spark.catalog.tableExists(f\"{catalog}.{target_schema}.{target_object}\"):\n",
    "    \n",
    "    dlt_obj = DeltaTable.forName(spark, f\"{catalog}.{target_schema}.{target_object}\")\n",
    "    dlt_obj.alias(\"tgt\").merge(df_union.alias(\"src\"), f\"tgt.{sur_key} = src.{sur_key}\")\\\n",
    "                        .whenMatchedUpdateAll(condition = f\"src.{cdc_col} >= tgt.{cdc_col}\")\\\n",
    "                        .whenNotMatchedInsertAll()\\\n",
    "                        .execute()\n",
    "\n",
    "else:\n",
    "    df_union.write.format(\"delta\")\\\n",
    "      .mode(\"overwrite\")\\\n",
    "      .saveAsTable(f\"{catalog}.{target_schema}.{target_object}\")"
   ]
  },
  {
   "cell_type": "code",
   "execution_count": 0,
   "metadata": {
    "application/vnd.databricks.v1+cell": {
     "cellMetadata": {
      "byteLimit": 2048000,
      "implicitDf": true,
      "rowLimit": 10000
     },
     "inputWidgets": {},
     "nuid": "c227dabe-adfd-4839-a93d-6e841d3dab43",
     "showTitle": false,
     "tableResultSettingsMap": {},
     "title": ""
    }
   },
   "outputs": [
    {
     "output_type": "display_data",
     "data": {
      "text/html": [
       "<style scoped>\n",
       "  .table-result-container {\n",
       "    max-height: 300px;\n",
       "    overflow: auto;\n",
       "  }\n",
       "  table, th, td {\n",
       "    border: 1px solid black;\n",
       "    border-collapse: collapse;\n",
       "  }\n",
       "  th, td {\n",
       "    padding: 5px;\n",
       "  }\n",
       "  th {\n",
       "    text-align: left;\n",
       "  }\n",
       "</style><div class='table-result-container'><table class='table-result'><thead style='background-color: white'><tr><th>passenger_id</th><th>name</th><th>gender</th><th>nationality</th><th>modifiedDate</th><th>DimPassengerskey</th><th>create_date</th><th>update_date</th></tr></thead><tbody><tr><td>P0049</td><td>Justin Thomas</td><td>Female</td><td>Tokelau</td><td>2025-07-01T13:32:22.664Z</td><td>7</td><td>2025-07-01T13:06:23.671Z</td><td>2025-07-01T13:52:09.891Z</td></tr></tbody></table></div>"
      ]
     },
     "metadata": {
      "application/vnd.databricks.v1+output": {
       "addedWidgets": {},
       "aggData": [],
       "aggError": "",
       "aggOverflow": false,
       "aggSchema": [],
       "aggSeriesLimitReached": false,
       "aggType": "",
       "arguments": {},
       "columnCustomDisplayInfos": {},
       "data": [
        [
         "P0049",
         "Justin Thomas",
         "Female",
         "Tokelau",
         "2025-07-01T13:32:22.664Z",
         7,
         "2025-07-01T13:06:23.671Z",
         "2025-07-01T13:52:09.891Z"
        ]
       ],
       "datasetInfos": [
        {
         "name": "_sqldf",
         "schema": {
          "fields": [
           {
            "metadata": {},
            "name": "passenger_id",
            "nullable": true,
            "type": "string"
           },
           {
            "metadata": {},
            "name": "name",
            "nullable": true,
            "type": "string"
           },
           {
            "metadata": {},
            "name": "gender",
            "nullable": true,
            "type": "string"
           },
           {
            "metadata": {},
            "name": "nationality",
            "nullable": true,
            "type": "string"
           },
           {
            "metadata": {},
            "name": "modifiedDate",
            "nullable": true,
            "type": "timestamp"
           },
           {
            "metadata": {},
            "name": "DimPassengerskey",
            "nullable": true,
            "type": "long"
           },
           {
            "metadata": {},
            "name": "create_date",
            "nullable": true,
            "type": "timestamp"
           },
           {
            "metadata": {},
            "name": "update_date",
            "nullable": true,
            "type": "timestamp"
           }
          ],
          "type": "struct"
         },
         "tableIdentifier": null,
         "typeStr": "pyspark.sql.connect.dataframe.DataFrame"
        }
       ],
       "dbfsResultPath": null,
       "isJsonSchema": true,
       "metadata": {
        "createTempViewForImplicitDf": true,
        "dataframeName": "_sqldf",
        "executionCount": 106
       },
       "overflow": false,
       "plotOptions": {
        "customPlotOptions": {},
        "displayType": "table",
        "pivotAggregation": null,
        "pivotColumns": null,
        "xColumns": null,
        "yColumns": null
       },
       "removedWidgets": [],
       "schema": [
        {
         "metadata": "{}",
         "name": "passenger_id",
         "type": "\"string\""
        },
        {
         "metadata": "{}",
         "name": "name",
         "type": "\"string\""
        },
        {
         "metadata": "{}",
         "name": "gender",
         "type": "\"string\""
        },
        {
         "metadata": "{}",
         "name": "nationality",
         "type": "\"string\""
        },
        {
         "metadata": "{}",
         "name": "modifiedDate",
         "type": "\"timestamp\""
        },
        {
         "metadata": "{}",
         "name": "DimPassengerskey",
         "type": "\"long\""
        },
        {
         "metadata": "{}",
         "name": "create_date",
         "type": "\"timestamp\""
        },
        {
         "metadata": "{}",
         "name": "update_date",
         "type": "\"timestamp\""
        }
       ],
       "type": "table"
      }
     },
     "output_type": "display_data"
    }
   ],
   "source": [
    "%sql\n",
    "select * from workspace.gold.dimpassengers WHERE passenger_id = 'P0049'"
   ]
  }
 ],
 "metadata": {
  "application/vnd.databricks.v1+notebook": {
   "computePreferences": null,
   "dashboards": [],
   "environmentMetadata": {
    "base_environment": "",
    "environment_version": "2"
   },
   "inputWidgetPreferences": null,
   "language": "python",
   "notebookMetadata": {
    "mostRecentlyExecutedCommandWithImplicitDF": {
     "commandId": 5308446855060130,
     "dataframes": [
      "_sqldf"
     ]
    },
    "pythonIndentUnit": 4
   },
   "notebookName": "dim_dynamic_builder",
   "widgets": {
    "backdated_refresh": {
     "currentValue": "",
     "nuid": "e8d708ce-1d3b-4744-8e80-2831217a6513",
     "typedWidgetInfo": {
      "autoCreated": false,
      "defaultValue": "",
      "label": null,
      "name": "backdated_refresh",
      "options": {
       "widgetDisplayType": "Text",
       "validationRegex": null
      },
      "parameterDataType": "String"
     },
     "widgetInfo": {
      "widgetType": "text",
      "defaultValue": "",
      "label": null,
      "name": "backdated_refresh",
      "options": {
       "widgetType": "text",
       "autoCreated": null,
       "validationRegex": null
      }
     }
    },
    "cdccol": {
     "currentValue": "",
     "nuid": "915de16e-849c-4753-b716-40056655db24",
     "typedWidgetInfo": {
      "autoCreated": false,
      "defaultValue": "",
      "label": null,
      "name": "cdccol",
      "options": {
       "widgetDisplayType": "Text",
       "validationRegex": null
      },
      "parameterDataType": "String"
     },
     "widgetInfo": {
      "widgetType": "text",
      "defaultValue": "",
      "label": null,
      "name": "cdccol",
      "options": {
       "widgetType": "text",
       "autoCreated": null,
       "validationRegex": null
      }
     }
    },
    "keycols": {
     "currentValue": "[\"flight_id\"]",
     "nuid": "432914be-0fed-44d4-97a3-5478fcdb3865",
     "typedWidgetInfo": {
      "autoCreated": false,
      "defaultValue": "",
      "label": null,
      "name": "keycols",
      "options": {
       "widgetDisplayType": "Text",
       "validationRegex": null
      },
      "parameterDataType": "String"
     },
     "widgetInfo": {
      "widgetType": "text",
      "defaultValue": "",
      "label": null,
      "name": "keycols",
      "options": {
       "widgetType": "text",
       "autoCreated": null,
       "validationRegex": null
      }
     }
    },
    "source_object": {
     "currentValue": "",
     "nuid": "79a61277-d955-46b2-baa0-d2be1e4d67f9",
     "typedWidgetInfo": {
      "autoCreated": false,
      "defaultValue": "",
      "label": null,
      "name": "source_object",
      "options": {
       "widgetDisplayType": "Text",
       "validationRegex": null
      },
      "parameterDataType": "String"
     },
     "widgetInfo": {
      "widgetType": "text",
      "defaultValue": "",
      "label": null,
      "name": "source_object",
      "options": {
       "widgetType": "text",
       "autoCreated": false,
       "validationRegex": null
      }
     }
    },
    "source_schema": {
     "currentValue": "",
     "nuid": "d7ed96b4-5e10-410a-91d6-cdc056f8bcf1",
     "typedWidgetInfo": {
      "autoCreated": false,
      "defaultValue": "",
      "label": null,
      "name": "source_schema",
      "options": {
       "widgetDisplayType": "Text",
       "validationRegex": null
      },
      "parameterDataType": "String"
     },
     "widgetInfo": {
      "widgetType": "text",
      "defaultValue": "",
      "label": null,
      "name": "source_schema",
      "options": {
       "widgetType": "text",
       "autoCreated": false,
       "validationRegex": null
      }
     }
    }
   }
  },
  "language_info": {
   "name": "python"
  }
 },
 "nbformat": 4,
 "nbformat_minor": 0
}