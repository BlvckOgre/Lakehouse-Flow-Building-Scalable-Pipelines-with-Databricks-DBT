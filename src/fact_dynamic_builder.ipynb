{
 "cells": [
  {
   "cell_type": "code",
   "execution_count": 0,
   "metadata": {
    "application/vnd.databricks.v1+cell": {
     "cellMetadata": {
      "byteLimit": 2048000,
      "rowLimit": 10000
     },
     "inputWidgets": {},
     "nuid": "ca85f7e3-f218-4db6-8986-268a2eadbef6",
     "showTitle": false,
     "tableResultSettingsMap": {},
     "title": ""
    }
   },
   "outputs": [],
   "source": [
    "from pyspark.sql.functions import *"
   ]
  },
  {
   "cell_type": "code",
   "execution_count": 0,
   "metadata": {
    "application/vnd.databricks.v1+cell": {
     "cellMetadata": {
      "byteLimit": 2048000,
      "rowLimit": 10000
     },
     "inputWidgets": {},
     "nuid": "96fcd498-01f2-4e54-8e53-315534b727d8",
     "showTitle": false,
     "tableResultSettingsMap": {},
     "title": ""
    }
   },
   "outputs": [],
   "source": [
    "# catalog\n",
    "catalog = \"workspace\"\n",
    "\n",
    "# source schema\n",
    "source_schema = \"silver\"\n",
    "\n",
    "# Source Object\n",
    "source_object = \"silver_bookings\"\n",
    "\n",
    "# cdc column\n",
    "cdc_col = \"modifiedDate\"\n",
    "\n",
    "# back-date refresh\n",
    "backdated_refresh = \"\"\n",
    "\n",
    "# Source fact table\n",
    "fact_table = f\"{catalog}.{source_schema}.{source_object}\"\n",
    "\n",
    "# Target schema\n",
    "target_schema = \"gold\"\n",
    "\n",
    "# Target object\n",
    "target_object = \"FactBookings\"\n",
    "\n",
    "# fact key cols list\n",
    "fact_key_cols = [\"DimPassengerskey\", \"Dimflightskey\", \"DimAirportskey\", \"booking_date\"]\n"
   ]
  },
  {
   "cell_type": "code",
   "execution_count": 0,
   "metadata": {
    "application/vnd.databricks.v1+cell": {
     "cellMetadata": {
      "byteLimit": 2048000,
      "rowLimit": 10000
     },
     "inputWidgets": {},
     "nuid": "a5ef13c3-9bd9-47ce-95b2-b373bc095abb",
     "showTitle": false,
     "tableResultSettingsMap": {},
     "title": ""
    }
   },
   "outputs": [],
   "source": [
    "dimensions = [\n",
    "    {\n",
    "        \"table\" : f\"{catalog}.{target_schema}.DimPassengers\",\n",
    "        \"alias\" : \"DimPassengers\",\n",
    "        \"join_key\" : [(\"passenger_id\", \"passenger_id\")]  #(fact_col, dim_col)\n",
    "    },\n",
    "     {\n",
    "        \"table\" : f\"{catalog}.{target_schema}.Dimflights\",\n",
    "        \"alias\" : \"Dimflights\",\n",
    "        \"join_key\" : [(\"flight_id\", \"flight_id\")]  #(fact_col, dim_col)\n",
    "    },\n",
    "     {\n",
    "        \"table\" : f\"{catalog}.{target_schema}.DimAirports\",\n",
    "        \"alias\" : \"DimAirports\",\n",
    "        \"join_key\" : [(\"airport_id\", \"airport_id\")]  #(fact_col, dim_col)\n",
    "    },\n",
    "]\n",
    "\n",
    "\n",
    "#Columns you want to keep from fact table (besides the surrogate keys)\n",
    "fact_columns = [\"amount\", \"booking_date\", \"modifiedDate\"]"
   ]
  },
  {
   "cell_type": "markdown",
   "metadata": {
    "application/vnd.databricks.v1+cell": {
     "cellMetadata": {
      "byteLimit": 2048000,
      "rowLimit": 10000
     },
     "inputWidgets": {},
     "nuid": "35ba973d-0041-418a-a23e-11f04d1068bd",
     "showTitle": false,
     "tableResultSettingsMap": {},
     "title": ""
    }
   },
   "source": [
    "##  ***Last Load Data***"
   ]
  },
  {
   "cell_type": "code",
   "execution_count": 0,
   "metadata": {
    "application/vnd.databricks.v1+cell": {
     "cellMetadata": {
      "byteLimit": 2048000,
      "rowLimit": 10000
     },
     "inputWidgets": {},
     "nuid": "d6faff08-9c97-45e4-84f7-18cd57d60589",
     "showTitle": false,
     "tableResultSettingsMap": {},
     "title": ""
    }
   },
   "outputs": [
    {
     "output_type": "execute_result",
     "data": {
      "text/plain": [
       "'1900-01-01 00:00:00'"
      ]
     },
     "execution_count": 178,
     "metadata": {},
     "output_type": "execute_result"
    }
   ],
   "source": [
    "# no backdated refresh\n",
    "if len(backdated_refresh) == 0:\n",
    "\n",
    "  #if table EXIST in the destination \n",
    "  if spark.catalog.tableExists(f\"{catalog}.{target_schema}.{target_object}\"):\n",
    "\n",
    "    last_load = spark.sql(f\"select max({cdc_col}) from workspace.{target_schema}.{target_object}\").collect()[0][0]\n",
    "  \n",
    "  else:\n",
    "    last_load = \"1900-01-01 00:00:00\"\n",
    "    \n",
    "# do back data refresh\n",
    "else:\n",
    "  last_load = backdated_refresh\n",
    "\n",
    "\n",
    "## test\n",
    "last_load"
   ]
  },
  {
   "cell_type": "markdown",
   "metadata": {
    "application/vnd.databricks.v1+cell": {
     "cellMetadata": {
      "byteLimit": 2048000,
      "rowLimit": 10000
     },
     "inputWidgets": {},
     "nuid": "93f343b8-4d30-47ea-a15f-3ccc7eb2a4b5",
     "showTitle": false,
     "tableResultSettingsMap": {},
     "title": ""
    }
   },
   "source": [
    "## **Dynamic Fact Query [Bring Key]**"
   ]
  },
  {
   "cell_type": "code",
   "execution_count": 0,
   "metadata": {
    "application/vnd.databricks.v1+cell": {
     "cellMetadata": {
      "byteLimit": 2048000,
      "rowLimit": 10000
     },
     "inputWidgets": {},
     "nuid": "82715f93-d66b-4400-a2f6-2369c568a149",
     "showTitle": false,
     "tableResultSettingsMap": {},
     "title": ""
    }
   },
   "outputs": [],
   "source": [
    "def generate_fact_query_incremental(fact_table, dimensions, cdc_col, processing_date):\n",
    "    fact_alias = \"f\"\n",
    "\n",
    "    #Base columns to select\n",
    "    select_cols = [f\"{fact_alias}.{col}\" for col in fact_columns]\n",
    "\n",
    "    # Build joins dynamically\n",
    "    join_clauses = []\n",
    "    for dim in dimensions:\n",
    "        table_full = dim[\"table\"]\n",
    "        alias = dim[\"alias\"]\n",
    "        table_name = table_full.split('.')[-1]\n",
    "        surrogate_key = f\"{alias}.{table_name}key\"\n",
    "        select_cols.append(surrogate_key)\n",
    "\n",
    "        # Build ON Clause\n",
    "        on_conditions = [\n",
    "            f\"{fact_alias}.{fk} = {alias}.{dk}\" for fk, dk in dim[\"join_key\"]\n",
    "        ]\n",
    "        join_clause = f\"LEFT JOIN {table_full} {alias} ON \" + \" AND \".join(on_conditions)\n",
    "        join_clauses.append(join_clause)\n",
    "    \n",
    "    #Final SELECT and JOIN Clauses\n",
    "    select_clause = \",\\n  \".join(select_cols)\n",
    "    joins = \"\\n\".join(join_clauses)\n",
    "\n",
    "    #WHERE Clause for incremental filtering\n",
    "    where_clause = f\"{fact_alias}.{cdc_col} >= DATE('{last_load}')\"\n",
    "\n",
    "    #Final Query\n",
    "    query = f\"\"\"\n",
    "SELECT\n",
    "      {select_clause}\n",
    "FROM\n",
    "      {fact_table} {fact_alias}\n",
    "    {joins}\n",
    "WHERE\n",
    "      {where_clause}\n",
    "      \"\"\".strip()\n",
    "    return query\n",
    "# DBTITLE 1)\n",
    "        \n"
   ]
  },
  {
   "cell_type": "code",
   "execution_count": 0,
   "metadata": {
    "application/vnd.databricks.v1+cell": {
     "cellMetadata": {
      "byteLimit": 2048000,
      "rowLimit": 10000
     },
     "inputWidgets": {},
     "nuid": "d36bc6a9-2102-4dd0-b2c0-d72e8fc37848",
     "showTitle": false,
     "tableResultSettingsMap": {},
     "title": ""
    }
   },
   "outputs": [],
   "source": [
    "query = generate_fact_query_incremental(fact_table, dimensions, cdc_col, last_load)\n"
   ]
  },
  {
   "cell_type": "markdown",
   "metadata": {
    "application/vnd.databricks.v1+cell": {
     "cellMetadata": {
      "byteLimit": 2048000,
      "rowLimit": 10000
     },
     "inputWidgets": {},
     "nuid": "8506ee0c-6d4f-4dd5-b3ff-23bb15c6123f",
     "showTitle": false,
     "tableResultSettingsMap": {},
     "title": ""
    }
   },
   "source": [
    "## DF_FACT"
   ]
  },
  {
   "cell_type": "code",
   "execution_count": 0,
   "metadata": {
    "application/vnd.databricks.v1+cell": {
     "cellMetadata": {
      "byteLimit": 2048000,
      "rowLimit": 10000
     },
     "inputWidgets": {},
     "nuid": "2e12d735-934e-48ed-a334-88c1925ff6bb",
     "showTitle": false,
     "tableResultSettingsMap": {},
     "title": ""
    }
   },
   "outputs": [],
   "source": [
    "df_fact = spark.sql(query)"
   ]
  },
  {
   "cell_type": "code",
   "execution_count": 0,
   "metadata": {
    "application/vnd.databricks.v1+cell": {
     "cellMetadata": {
      "byteLimit": 2048000,
      "rowLimit": 10000
     },
     "inputWidgets": {},
     "nuid": "64791e8b-0633-4bc9-89db-b5036d41fd77",
     "showTitle": false,
     "tableResultSettingsMap": {},
     "title": ""
    }
   },
   "outputs": [
    {
     "output_type": "execute_result",
     "data": {
      "text/plain": [
       "'src.DimPassengerskey = tgt.DimPassengerskey AND src.Dimflightskey = tgt.Dimflightskey AND src.DimAirportskey = tgt.DimAirportskey AND src.booking_date = tgt.booking_date'"
      ]
     },
     "execution_count": 182,
     "metadata": {},
     "output_type": "execute_result"
    }
   ],
   "source": [
    "fact_key_col_str = \" AND \".join([f\"src.{col} = tgt.{col}\" for col in fact_key_cols])\n",
    "fact_key_col_str"
   ]
  },
  {
   "cell_type": "code",
   "execution_count": 0,
   "metadata": {
    "application/vnd.databricks.v1+cell": {
     "cellMetadata": {
      "byteLimit": 2048000,
      "rowLimit": 10000
     },
     "inputWidgets": {},
     "nuid": "4bfb7eba-4dbf-4fc6-937b-a85f88063d94",
     "showTitle": false,
     "tableResultSettingsMap": {},
     "title": ""
    }
   },
   "outputs": [],
   "source": [
    "from delta.tables import DeltaTable\n",
    "\n",
    "if spark.catalog.tableExists(f\"{catalog}.{target_schema}.{target_object}\"):\n",
    "    \n",
    "    dlt_obj = DeltaTable.forName(spark, f\"{catalog}.{target_schema}.{target_object}\")\n",
    "    dlt_obj.alias(\"tgt\").merge(df_fact.alias(\"src\"), fact_key_col_str)\\\n",
    "                        .whenMatchedUpdateAll(condition = f\"src.{cdc_col} >= tgt.{cdc_col}\")\\\n",
    "                        .whenNotMatchedInsertAll()\\\n",
    "                        .execute()\n",
    "\n",
    "else:\n",
    "    df_fact.write.format(\"delta\")\\\n",
    "      .mode(\"overwrite\")\\\n",
    "      .saveAsTable(f\"{catalog}.{target_schema}.{target_object}\")"
   ]
  }
 ],
 "metadata": {
  "application/vnd.databricks.v1+notebook": {
   "computePreferences": null,
   "dashboards": [],
   "environmentMetadata": {
    "base_environment": "",
    "environment_version": "2"
   },
   "inputWidgetPreferences": null,
   "language": "python",
   "notebookMetadata": {
    "pythonIndentUnit": 4
   },
   "notebookName": "fact_dynamic_builder",
   "widgets": {}
  },
  "language_info": {
   "name": "python"
  }
 },
 "nbformat": 4,
 "nbformat_minor": 0
}